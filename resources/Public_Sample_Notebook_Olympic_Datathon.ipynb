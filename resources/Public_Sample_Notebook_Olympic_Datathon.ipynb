{
  "nbformat": 4,
  "nbformat_minor": 0,
  "metadata": {
    "colab": {
      "name": "Public Sample Notebook Olympic Datathon.ipynb",
      "provenance": []
    },
    "kernelspec": {
      "name": "python3",
      "display_name": "Python 3"
    },
    "language_info": {
      "name": "python"
    }
  },
  "cells": [
    {
      "cell_type": "markdown",
      "metadata": {
        "id": "JlipWrMjqDWM"
      },
      "source": [
        "# Olympics Datathon - A Data Story-Telling Competition"
      ]
    },
    {
      "cell_type": "markdown",
      "metadata": {
        "id": "fFhI0Li9qJgi"
      },
      "source": [
        "## Welcome to the Datathon\n",
        "\n",
        "The Olympics Datathon is designed to be an entry level, language-agnostic mini \"hackathon\". The focus of the datathon will be the explorative data analysis - or as we like to call it data storytelling - of the given Olympics dataset\n",
        "\n",
        "### Event Timeline\n",
        "\n",
        "| Date         | Time  | Event                                                 |\n",
        "|--------------|-------|-------------------------------------------------------|\n",
        "| 16th October | 3-4pm | Dataset introduction & Python basics for storytelling |\n",
        "| 16th October | 4-5pm | R workshop by Warwick Statistics Society              |\n",
        "| 16th October | 5-6pm | In person guidance                                    |\n",
        "| 16th October | 6pm   | Free pizza                                            |\n",
        "| 23rd October | 6pm   | Submission deadline                                   |"
      ]
    },
    {
      "cell_type": "markdown",
      "metadata": {
        "id": "hHK5ERtZqglO"
      },
      "source": [
        "## Python teaching session\n",
        "  "
      ]
    },
    {
      "cell_type": "code",
      "metadata": {
        "id": "przMh2GVVXPR"
      },
      "source": [
        "# Library imports for data handling\n",
        "import pandas as pd\n",
        "import numpy as np"
      ],
      "execution_count": null,
      "outputs": []
    }
  ]
}